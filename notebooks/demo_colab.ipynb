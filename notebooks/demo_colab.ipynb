{
 "cells": [
  {
   "cell_type": "markdown",
   "id": "ffe3f2b0",
   "metadata": {},
   "source": [
    "# LAMsec Demo Notebook\n",
    "Quick interactive demonstration of the defended Large Action Model (LAM) pipeline: generation, defenses, simulation, and metrics (ADS, SVI, GCR)."
   ]
  },
  {
   "cell_type": "markdown",
   "id": "5c806d9e",
   "metadata": {},
   "source": [
    "## 1. Environment Setup\n",
    "If running on Google Colab uncomment the first cell to install dependencies."
   ]
  },
  {
   "cell_type": "code",
   "execution_count": null,
   "id": "8a188de8",
   "metadata": {},
   "outputs": [],
   "source": [
    "# Colab only: install (commented by default)\n",
    "# !pip install -q transformers sentence-transformers rapidfuzz gradio pyyaml torch==2.2.0 --extra-index-url https://download.pytorch.org/whl/cpu\n",
    "# (Optional) if repo not present: !git clone https://github.com/your-org/LAMsec.git && cd LAMsec"
   ]
  },
  {
   "cell_type": "markdown",
   "id": "9bf7e45a",
   "metadata": {},
   "source": [
    "## 2. Imports & Seeding"
   ]
  },
  {
   "cell_type": "code",
   "execution_count": null,
   "id": "8b551ecc",
   "metadata": {},
   "outputs": [],
   "source": [
    "from pathlib import Path\n",
    "import json, yaml\n",
    "from src.model_wrapper import generate_and_parse\n",
    "from src.defense import InputSanitizer, SemanticAnalyzer, ActionValidator, SafeAlternativeGenerator, policy_decide\n",
    "from src.metrics import ads, svi, gcr, attack_success\n",
    "from src.envs.text_nav import TextNavigationEnv\n",
    "from src.utils import set_deterministic\n",
    "set_deterministic(42)\n",
    "print('Imports loaded.')"
   ]
  },
  {
   "cell_type": "markdown",
   "id": "d4001a98",
   "metadata": {},
   "source": [
    "## 3. Load Attack Dataset & Select a Sample"
   ]
  },
  {
   "cell_type": "code",
   "execution_count": null,
   "id": "b7f0acc7",
   "metadata": {},
   "outputs": [],
   "source": [
    "data_path = Path('attacks/attacks.yaml')\n",
    "attacks = yaml.safe_load(data_path.read_text())\n",
    "len(attacks), attacks[0]['id']"
   ]
  },
  {
   "cell_type": "markdown",
   "id": "b55dc7df",
   "metadata": {},
   "source": [
    "## 4. Define a helper to run pipeline for one (intended, injection) pair"
   ]
  },
  {
   "cell_type": "code",
   "execution_count": null,
   "id": "731a0d7a",
   "metadata": {},
   "outputs": [],
   "source": [
    "sanitizer = InputSanitizer()\n",
    "semantic = SemanticAnalyzer()\n",
    "validator = ActionValidator()\n",
    "safe_gen = SafeAlternativeGenerator()\n",
    "\n",
    "def run_case(entry):\n",
    "    intended = entry['intended']\n",
    "    injected = entry['injection']\n",
    "    intended_goal = entry.get('intended_goal', intended)\n",
    "    base_actions, _ = generate_and_parse(intended)\n",
    "    inj_actions, _ = generate_and_parse(injected)\n",
    "    decision = policy_decide(injected, intended, inj_actions, sanitizer, semantic, validator, safe_gen, regenerate_fn=generate_and_parse, intended_goal=intended_goal)\n",
    "    defended = decision['actions']\n",
    "    env = TextNavigationEnv()\n",
    "    trace = []\n",
    "    for a in defended:\n",
    "        res = env.run_action(a)\n",
    "        trace.append({'action': a, 'result': res})\n",
    "    final_state = env.summarize_state()\n",
    "    ads_val = ads(base_actions, inj_actions)\n",
    "    svi_val, svi_list = svi(inj_actions)\n",
    "    gcr_val = gcr(intended_goal, defended, final_state)\n",
    "    success = attack_success(ads_val, svi_val, gcr_val)\n",
    "    return {\n",
    "        'id': entry['id'], 'category': entry['category'],\n",
    "        'ads': ads_val, 'svi': svi_val, 'gcr': gcr_val, 'attack_success': success,\n",
    "        'policy_blocked': decision['blocked'], 'reasons': decision['reasons'],\n",
    "        'san_patterns': decision['san_patterns'], 'suspicion': decision['suspicion'],\n",
    "        'constrained_regen': decision.get('constrained', False),\n",
    "        'base_actions': base_actions, 'inj_actions': inj_actions, 'defended': defended,\n",
    "        'trace': trace, 'final_state': final_state\n",
    "    }"
   ]
  },
  {
   "cell_type": "markdown",
   "id": "6cfb59e2",
   "metadata": {},
   "source": [
    "## 5. Run a Single Sample (change index as needed)"
   ]
  },
  {
   "cell_type": "code",
   "execution_count": null,
   "id": "2061cfdf",
   "metadata": {},
   "outputs": [],
   "source": [
    "sample_index = 0  # adjust to explore\n",
    "result = run_case(attacks[sample_index])\n",
    "result.keys(), result['ads'], result['gcr'], result['attack_success']"
   ]
  },
  {
   "cell_type": "markdown",
   "id": "e615aef9",
   "metadata": {},
   "source": [
    "## 6. Inspect Actions & Trace"
   ]
  },
  {
   "cell_type": "code",
   "execution_count": null,
   "id": "1e5b806b",
   "metadata": {},
   "outputs": [],
   "source": [
    "import pprint, json\n",
    "pprint.pprint(result['base_actions'])\n",
    "pprint.pprint(result['inj_actions'])\n",
    "pprint.pprint(result['defended'])\n",
    "print('Trace:')\n",
    "print(json.dumps(result['trace'], indent=2))\n",
    "print('Final state:', result['final_state'])\n",
    "print('Reasons:', result['reasons'])"
   ]
  },
  {
   "cell_type": "markdown",
   "id": "1f0f1709",
   "metadata": {},
   "source": [
    "## 7. Optional: Launch Gradio UI (may not work inside some hosted notebooks without public URL)"
   ]
  },
  {
   "cell_type": "code",
   "execution_count": null,
   "id": "205a9173",
   "metadata": {},
   "outputs": [],
   "source": [
    "# Optional UI launch\n",
    "# import gradio as gr\n",
    "# import threading\n",
    "# def launch():\n",
    "#     import gradio_app  # assumes working directory at repo root\n",
    "# threading.Thread(target=lambda: __import__('gradio_app')).start()\n",
    "pass"
   ]
  }
 ],
 "metadata": {
  "language_info": {
   "name": "python"
  }
 },
 "nbformat": 4,
 "nbformat_minor": 5
}
