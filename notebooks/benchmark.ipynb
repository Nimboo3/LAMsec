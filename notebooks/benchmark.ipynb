{
 "cells": [
  {
   "cell_type": "markdown",
   "id": "6a697a43",
   "metadata": {},
   "source": [
    "# LAMsec Benchmark Notebook\n",
    "Run the full attack dataset, compute metrics, and summarize results."
   ]
  },
  {
   "cell_type": "markdown",
   "id": "db2efbc0",
   "metadata": {},
   "source": [
    "## 1. Setup (Colab optional)"
   ]
  },
  {
   "cell_type": "code",
   "execution_count": null,
   "id": "01cc2609",
   "metadata": {},
   "outputs": [],
   "source": [
    "# Colab install (uncomment if needed)\n",
    "# !pip install -q transformers sentence-transformers rapidfuzz gradio pyyaml torch==2.2.0 --extra-index-url https://download.pytorch.org/whl/cpu"
   ]
  },
  {
   "cell_type": "markdown",
   "id": "e78b74a1",
   "metadata": {},
   "source": [
    "## 2. Imports"
   ]
  },
  {
   "cell_type": "code",
   "execution_count": null,
   "id": "011e19eb",
   "metadata": {},
   "outputs": [],
   "source": [
    "import json, time, yaml, statistics as stats\n",
    "from pathlib import Path\n",
    "from src.benchmark_runner import run_all\n",
    "from src.metrics import ads, svi, gcr\n",
    "from src.utils import set_deterministic\n",
    "set_deterministic(42)\n",
    "print('Ready.')"
   ]
  },
  {
   "cell_type": "markdown",
   "id": "369b3a6b",
   "metadata": {},
   "source": [
    "## 3. Execute Benchmark"
   ]
  },
  {
   "cell_type": "code",
   "execution_count": null,
   "id": "81acb857",
   "metadata": {},
   "outputs": [],
   "source": [
    "start = time.time()\n",
    "results = run_all()\n",
    "elapsed = round(time.time() - start, 2)\n",
    "len(results), elapsed"
   ]
  },
  {
   "cell_type": "markdown",
   "id": "87fddfe9",
   "metadata": {},
   "source": [
    "## 4. Aggregate Metrics"
   ]
  },
  {
   "cell_type": "code",
   "execution_count": null,
   "id": "bde444b0",
   "metadata": {},
   "outputs": [],
   "source": [
    "ads_vals = [r['ads'] for r in results]\n",
    "gcr_vals = [r['gcr'] for r in results]\n",
    "svi_vals = [r['svi'] for r in results]\n",
    "succ = [r['attack_success'] for r in results]\n",
    "summary = {\n",
    "    'cases': len(results),\n",
    "    'avg_ads': round(sum(ads_vals)/len(ads_vals),4),\n",
    "    'median_ads': stats.median(ads_vals),\n",
    "    'avg_gcr': round(sum(gcr_vals)/len(gcr_vals),4),\n",
    "    'attack_success_rate': round(sum(1 for x in succ if x)/len(succ),4),\n",
    "    'svi_positive_rate': round(sum(1 for v in svi_vals if v>0)/len(svi_vals),4),\n",
    "} \n",
    "summary"
   ]
  },
  {
   "cell_type": "markdown",
   "id": "e46b9d03",
   "metadata": {},
   "source": [
    "## 5. Sample Rows"
   ]
  },
  {
   "cell_type": "code",
   "execution_count": null,
   "id": "b420e756",
   "metadata": {},
   "outputs": [],
   "source": [
    "for r in results[:3]:\n",
    "    print(r['id'], r['category'], r['ads'], r['svi'], r['gcr'], r['attack_success'])"
   ]
  },
  {
   "cell_type": "markdown",
   "id": "5ccee6ca",
   "metadata": {},
   "source": [
    "## 6. Persist Results"
   ]
  },
  {
   "cell_type": "code",
   "execution_count": null,
   "id": "c3c73491",
   "metadata": {},
   "outputs": [],
   "source": [
    "out_path = Path('results/benchmark_notebook.json')\n",
    "out_path.parent.mkdir(exist_ok=True)\n",
    "out_path.write_text(json.dumps(results, indent=2))\n",
    "summary_path = Path('results/summary_notebook.json')\n",
    "summary_path.write_text(json.dumps(summary, indent=2))\n",
    "out_path, summary_path"
   ]
  },
  {
   "cell_type": "markdown",
   "id": "2063e8a3",
   "metadata": {},
   "source": [
    "## 7. (Optional) Simple Distribution Plots"
   ]
  },
  {
   "cell_type": "code",
   "execution_count": null,
   "id": "66c50d76",
   "metadata": {},
   "outputs": [],
   "source": [
    "import matplotlib.pyplot as plt\n",
    "plt.figure(figsize=(6,3)); plt.hist([r['ads'] for r in results], bins=15, color='steelblue'); plt.title('ADS Distribution'); plt.show()\n",
    "plt.figure(figsize=(6,3)); plt.hist([r['gcr'] for r in results], bins=15, color='seagreen'); plt.title('GCR Distribution'); plt.show()\n",
    "plt.figure(figsize=(6,3)); plt.hist([r['svi'] for r in results], bins=10, color='indianred'); plt.title('SVI Distribution'); plt.show()"
   ]
  }
 ],
 "metadata": {
  "language_info": {
   "name": "python"
  }
 },
 "nbformat": 4,
 "nbformat_minor": 5
}
